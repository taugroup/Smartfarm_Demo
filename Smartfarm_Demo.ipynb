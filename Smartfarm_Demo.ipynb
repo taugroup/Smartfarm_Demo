{
  "nbformat": 4,
  "nbformat_minor": 0,
  "metadata": {
    "colab": {
      "provenance": [],
      "include_colab_link": true
    },
    "kernelspec": {
      "name": "python3",
      "display_name": "Python 3"
    },
    "language_info": {
      "name": "python"
    }
  },
  "cells": [
    {
      "cell_type": "markdown",
      "metadata": {
        "id": "view-in-github",
        "colab_type": "text"
      },
      "source": [
        "<a href=\"https://colab.research.google.com/github/taugroup/Smartfarm_Demo/blob/main/Smartfarm_Demo.ipynb\" target=\"_parent\"><img src=\"https://colab.research.google.com/assets/colab-badge.svg\" alt=\"Open In Colab\"/></a>"
      ]
    },
    {
      "cell_type": "markdown",
      "source": [
        "# 1. Clone the Smartfarm_Demo GitHub repository"
      ],
      "metadata": {
        "id": "CzUeEzlENvJK"
      }
    },
    {
      "cell_type": "code",
      "source": [
        "!git clone https://github.com/taugroup/Smartfarm_Demo.git"
      ],
      "metadata": {
        "id": "OKlwPOzxNtBl"
      },
      "execution_count": null,
      "outputs": []
    },
    {
      "cell_type": "markdown",
      "source": [
        "# 2. Change directory to Smartfarm_Demo"
      ],
      "metadata": {
        "id": "1-yqjip6OcMZ"
      }
    },
    {
      "cell_type": "code",
      "source": [
        "%cd Smartfarm_Demo/"
      ],
      "metadata": {
        "id": "Umhaw3hdOgTI"
      },
      "execution_count": null,
      "outputs": []
    },
    {
      "cell_type": "markdown",
      "source": [
        "# 3. Install required packages"
      ],
      "metadata": {
        "id": "XI_9VOG8N5Lf"
      }
    },
    {
      "cell_type": "code",
      "source": [
        "%pip install -r requirements.txt"
      ],
      "metadata": {
        "id": "XV3uUoyUN79F"
      },
      "execution_count": null,
      "outputs": []
    },
    {
      "cell_type": "markdown",
      "source": [
        "# 4. Run the backend script in the background to process the cow_move.mp4 video"
      ],
      "metadata": {
        "id": "NqhI4I90OmBC"
      }
    },
    {
      "cell_type": "code",
      "source": [
        "import uuid\n",
        "\n",
        "topic = str(uuid.uuid4())\n",
        "print(topic)\n",
        "\n",
        "# backend for video processing\n",
        "get_ipython().system_raw('python backend/backend.py -vr backend/cow_move.mp4 -topic %s 2>&1 /dev/null &' % topic)"
      ],
      "metadata": {
        "id": "CC6HNHQoOo5i"
      },
      "execution_count": null,
      "outputs": []
    },
    {
      "cell_type": "markdown",
      "source": [
        "\n",
        "# 5. Run the fronend script in the background to host a web server with Flask."
      ],
      "metadata": {
        "id": "5CXM__vnqI-F"
      }
    },
    {
      "cell_type": "code",
      "source": [
        "get_ipython().system_raw('python frontend/app.py -topic %s 2>&1 /dev/null &' % topic)"
      ],
      "metadata": {
        "id": "FGCt8jrIX_gu"
      },
      "execution_count": null,
      "outputs": []
    },
    {
      "cell_type": "markdown",
      "source": [
        "# 6. Use the eval_js function to find the proxy port for communication. Simply click the link in the output to get access to the web server."
      ],
      "metadata": {
        "id": "oYEJb3R-O0FB"
      }
    },
    {
      "cell_type": "code",
      "source": [
        "from google.colab.output import eval_js\n",
        "print(eval_js(\"google.colab.kernel.proxyPort(5000)\"))"
      ],
      "metadata": {
        "id": "ir4YIWXLOPLh"
      },
      "execution_count": null,
      "outputs": []
    }
  ]
}