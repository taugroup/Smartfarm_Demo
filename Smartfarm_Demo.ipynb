{
  "nbformat": 4,
  "nbformat_minor": 0,
  "metadata": {
    "colab": {
      "provenance": [],
      "include_colab_link": true
    },
    "kernelspec": {
      "name": "python3",
      "display_name": "Python 3"
    },
    "language_info": {
      "name": "python"
    }
  },
  "cells": [
    {
      "cell_type": "markdown",
      "metadata": {
        "id": "view-in-github",
        "colab_type": "text"
      },
      "source": [
        "<a href=\"https://colab.research.google.com/github/taugroup/Smartfarm_Demo/blob/main/Smartfarm_Demo.ipynb\" target=\"_parent\"><img src=\"https://colab.research.google.com/assets/colab-badge.svg\" alt=\"Open In Colab\"/></a>"
      ]
    },
    {
      "cell_type": "markdown",
      "source": [
        "# 1. Clone the Smartfarm_Demo GitHub repository"
      ],
      "metadata": {
        "id": "CzUeEzlENvJK"
      }
    },
    {
      "cell_type": "code",
      "source": [
        "!git clone https://github.com/taugroup/Smartfarm_Demo.git"
      ],
      "metadata": {
        "id": "OKlwPOzxNtBl"
      },
      "execution_count": null,
      "outputs": []
    },
    {
      "cell_type": "markdown",
      "source": [
        "# 2. Change directory to Smartfarm_Demo"
      ],
      "metadata": {
        "id": "1-yqjip6OcMZ"
      }
    },
    {
      "cell_type": "code",
      "source": [
        "%cd Smartfarm_Demo/"
      ],
      "metadata": {
        "id": "Umhaw3hdOgTI"
      },
      "execution_count": null,
      "outputs": []
    },
    {
      "cell_type": "markdown",
      "source": [
        "# 3. Install required packages"
      ],
      "metadata": {
        "id": "XI_9VOG8N5Lf"
      }
    },
    {
      "cell_type": "code",
      "source": [
        "%pip install -r requirements.txt"
      ],
      "metadata": {
        "id": "XV3uUoyUN79F"
      },
      "execution_count": null,
      "outputs": []
    },
    {
      "cell_type": "markdown",
      "source": [
        "# 4. Run the backend script in the background to process the cow_move.mp4 video"
      ],
      "metadata": {
        "id": "NqhI4I90OmBC"
      }
    },
    {
      "cell_type": "code",
      "source": [
        "import uuid\n",
        "\n",
        "topic = str(uuid.uuid4())\n",
        "\n",
        "# get_ipython().system_raw('python backend/backend.py -vr backend/cow_move.mp4 -topic topic 2>&1 /dev/null &')\n",
        "\n",
        "get_ipython().system_raw('python backend/backend.py -vr backend/cow_move.mp4 -topic topic')\n"
      ],
      "metadata": {
        "id": "CC6HNHQoOo5i"
      },
      "execution_count": null,
      "outputs": []
    },
    {
      "cell_type": "code",
      "source": [
        "# get_ipython().system_raw('python frontend/app.py -topic topic 2>&1 /dev/null &')\n",
        "get_ipython().system_raw('python frontend/app.py -topic topic')"
      ],
      "metadata": {
        "id": "FGCt8jrIX_gu"
      },
      "execution_count": null,
      "outputs": []
    },
    {
      "cell_type": "markdown",
      "source": [
        "# 5. Use the eval_js function to find the proxy port for communication"
      ],
      "metadata": {
        "id": "oYEJb3R-O0FB"
      }
    },
    {
      "cell_type": "code",
      "source": [
        "from google.colab.output import eval_js\n",
        "print(eval_js(\"google.colab.kernel.proxyPort(5000)\"))"
      ],
      "metadata": {
        "id": "ir4YIWXLOPLh"
      },
      "execution_count": null,
      "outputs": []
    }
  ]
}